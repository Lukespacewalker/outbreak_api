{
 "cells": [
  {
   "cell_type": "code",
   "execution_count": 1,
   "metadata": {},
   "outputs": [],
   "source": [
    "import pandas as pd"
   ]
  },
  {
   "cell_type": "code",
   "execution_count": 44,
   "metadata": {},
   "outputs": [],
   "source": [
    "df=pd.read_csv('algorithm-data-dictionary.csv')"
   ]
  },
  {
   "cell_type": "code",
   "execution_count": 18,
   "metadata": {},
   "outputs": [],
   "source": [
    "df.columns=map(str.lower,df.columns)\n",
    "df.columns=df.columns.str.strip()"
   ]
  },
  {
   "cell_type": "code",
   "execution_count": null,
   "metadata": {},
   "outputs": [],
   "source": []
  },
  {
   "cell_type": "code",
   "execution_count": 19,
   "metadata": {},
   "outputs": [
    {
     "data": {
      "text/html": [
       "<div>\n",
       "<style scoped>\n",
       "    .dataframe tbody tr th:only-of-type {\n",
       "        vertical-align: middle;\n",
       "    }\n",
       "\n",
       "    .dataframe tbody tr th {\n",
       "        vertical-align: top;\n",
       "    }\n",
       "\n",
       "    .dataframe thead th {\n",
       "        text-align: right;\n",
       "    }\n",
       "</style>\n",
       "<table border=\"1\" class=\"dataframe\">\n",
       "  <thead>\n",
       "    <tr style=\"text-align: right;\">\n",
       "      <th></th>\n",
       "      <th>attribute</th>\n",
       "      <th>data_type</th>\n",
       "      <th>description</th>\n",
       "      <th>data_scope</th>\n",
       "      <th>data_size</th>\n",
       "      <th>mandatory field</th>\n",
       "      <th>charateristic_type</th>\n",
       "      <th>data_format</th>\n",
       "    </tr>\n",
       "  </thead>\n",
       "  <tbody>\n",
       "    <tr>\n",
       "      <th>0</th>\n",
       "      <td>fever</td>\n",
       "      <td>numeric/float</td>\n",
       "      <td>มีไข้สูง 37.5 องศา (Celsius) ขึ้นไป หรือ รู้สึ...</td>\n",
       "      <td>0 = ต่ำกว่า 37.5, 1 = สูงกว่าหรือเท่ากับ 37.5 ...</td>\n",
       "      <td>NaN</td>\n",
       "      <td>1</td>\n",
       "      <td>NaN</td>\n",
       "      <td>NaN</td>\n",
       "    </tr>\n",
       "    <tr>\n",
       "      <th>1</th>\n",
       "      <td>one_uri_symp</td>\n",
       "      <td>numeric/float</td>\n",
       "      <td>มีอาการอย่างหนึ่งในนี้ ( ไอ เจ็บคอ หอบเหนื่อยผ...</td>\n",
       "      <td>0 = ไม่มี, 1 = มี</td>\n",
       "      <td>NaN</td>\n",
       "      <td>1</td>\n",
       "      <td>NaN</td>\n",
       "      <td>NaN</td>\n",
       "    </tr>\n",
       "    <tr>\n",
       "      <th>2</th>\n",
       "      <td>travel_risk_country</td>\n",
       "      <td>numeric/float</td>\n",
       "      <td>มีประวัติเดินทางไปประเทศกลุ่มเสี่ยงในช่วง 14 ว...</td>\n",
       "      <td>0 = ไม่มี, 1 = มี</td>\n",
       "      <td>NaN</td>\n",
       "      <td>1</td>\n",
       "      <td>NaN</td>\n",
       "      <td>NaN</td>\n",
       "    </tr>\n",
       "    <tr>\n",
       "      <th>3</th>\n",
       "      <td>covid19_contact</td>\n",
       "      <td>numeric/float</td>\n",
       "      <td>มีประวัติอยู่ใกล้ชิดกับผู้ป่วยยืนยัน COVID-19 ...</td>\n",
       "      <td>0 = ไม่มี, 1 = มี</td>\n",
       "      <td>NaN</td>\n",
       "      <td>1</td>\n",
       "      <td>NaN</td>\n",
       "      <td>NaN</td>\n",
       "    </tr>\n",
       "    <tr>\n",
       "      <th>4</th>\n",
       "      <td>close_risk_country</td>\n",
       "      <td>numeric/float</td>\n",
       "      <td>มีบุคคลในบ้านเดินทางไปประเทศกลุ่มเสี่ยง ในช่วง...</td>\n",
       "      <td>0 = ไม่มี, 1 = มี</td>\n",
       "      <td>NaN</td>\n",
       "      <td>1</td>\n",
       "      <td>NaN</td>\n",
       "      <td>NaN</td>\n",
       "    </tr>\n",
       "  </tbody>\n",
       "</table>\n",
       "</div>"
      ],
      "text/plain": [
       "             attribute      data_type  \\\n",
       "0                fever  numeric/float   \n",
       "1         one_uri_symp  numeric/float   \n",
       "2  travel_risk_country  numeric/float   \n",
       "3      covid19_contact  numeric/float   \n",
       "4   close_risk_country  numeric/float   \n",
       "\n",
       "                                         description  \\\n",
       "0  มีไข้สูง 37.5 องศา (Celsius) ขึ้นไป หรือ รู้สึ...   \n",
       "1  มีอาการอย่างหนึ่งในนี้ ( ไอ เจ็บคอ หอบเหนื่อยผ...   \n",
       "2  มีประวัติเดินทางไปประเทศกลุ่มเสี่ยงในช่วง 14 ว...   \n",
       "3  มีประวัติอยู่ใกล้ชิดกับผู้ป่วยยืนยัน COVID-19 ...   \n",
       "4  มีบุคคลในบ้านเดินทางไปประเทศกลุ่มเสี่ยง ในช่วง...   \n",
       "\n",
       "                                          data_scope  data_size  \\\n",
       "0  0 = ต่ำกว่า 37.5, 1 = สูงกว่าหรือเท่ากับ 37.5 ...        NaN   \n",
       "1                                  0 = ไม่มี, 1 = มี        NaN   \n",
       "2                                  0 = ไม่มี, 1 = มี        NaN   \n",
       "3                                  0 = ไม่มี, 1 = มี        NaN   \n",
       "4                                  0 = ไม่มี, 1 = มี        NaN   \n",
       "\n",
       "   mandatory field  charateristic_type  data_format  \n",
       "0                1                 NaN          NaN  \n",
       "1                1                 NaN          NaN  \n",
       "2                1                 NaN          NaN  \n",
       "3                1                 NaN          NaN  \n",
       "4                1                 NaN          NaN  "
      ]
     },
     "execution_count": 19,
     "metadata": {},
     "output_type": "execute_result"
    }
   ],
   "source": [
    "df.head()"
   ]
  },
  {
   "cell_type": "code",
   "execution_count": 23,
   "metadata": {},
   "outputs": [
    {
     "data": {
      "text/plain": [
       "0     1.0\n",
       "1     1.0\n",
       "2     1.0\n",
       "3     1.0\n",
       "4     1.0\n",
       "5     1.0\n",
       "6     1.0\n",
       "7     1.0\n",
       "8     2.0\n",
       "9     2.0\n",
       "10    2.0\n",
       "Name: data_type_mapped, dtype: float64"
      ]
     },
     "execution_count": 23,
     "metadata": {},
     "output_type": "execute_result"
    }
   ],
   "source": [
    "VAR_TYPE_MAP={'numeric/float':1}\n",
    "df['data_type_mapped']=df['data_type'].map(VAR_TYPE_MAP).fillna(2)\n",
    "df['data_type_mapped']"
   ]
  },
  {
   "cell_type": "code",
   "execution_count": 27,
   "metadata": {},
   "outputs": [
    {
     "data": {
      "text/plain": [
       "0                   fever\n",
       "1            one_uri_symp\n",
       "2     travel_risk_country\n",
       "3         covid19_contact\n",
       "4      close_risk_country\n",
       "5             int_contact\n",
       "6                med_prof\n",
       "7               close_con\n",
       "8              gen_action\n",
       "9             spec_action\n",
       "10             risk_level\n",
       "Name: attribute, dtype: object"
      ]
     },
     "execution_count": 27,
     "metadata": {},
     "output_type": "execute_result"
    }
   ],
   "source": [
    "df[df['mandatory field']>0]['attribute']"
   ]
  },
  {
   "cell_type": "code",
   "execution_count": 36,
   "metadata": {},
   "outputs": [
    {
     "ename": "AttributeError",
     "evalue": "'Series' object has no attribute 'strip'",
     "output_type": "error",
     "traceback": [
      "\u001b[1;31m---------------------------------------------------------------------------\u001b[0m",
      "\u001b[1;31mAttributeError\u001b[0m                            Traceback (most recent call last)",
      "\u001b[1;32m<ipython-input-36-4ca1ee59dba7>\u001b[0m in \u001b[0;36m<module>\u001b[1;34m\u001b[0m\n\u001b[1;32m----> 1\u001b[1;33m \u001b[0mdf\u001b[0m\u001b[1;33m[\u001b[0m\u001b[1;34m'mandatory field'\u001b[0m\u001b[1;33m]\u001b[0m\u001b[1;33m.\u001b[0m\u001b[0mstrip\u001b[0m\u001b[1;33m(\u001b[0m\u001b[1;33m)\u001b[0m\u001b[1;33m\u001b[0m\u001b[1;33m\u001b[0m\u001b[0m\n\u001b[0m",
      "\u001b[1;32m~\\AppData\\Local\\Continuum\\anaconda3\\lib\\site-packages\\pandas\\core\\generic.py\u001b[0m in \u001b[0;36m__getattr__\u001b[1;34m(self, name)\u001b[0m\n\u001b[0;32m   5065\u001b[0m             \u001b[1;32mif\u001b[0m \u001b[0mself\u001b[0m\u001b[1;33m.\u001b[0m\u001b[0m_info_axis\u001b[0m\u001b[1;33m.\u001b[0m\u001b[0m_can_hold_identifiers_and_holds_name\u001b[0m\u001b[1;33m(\u001b[0m\u001b[0mname\u001b[0m\u001b[1;33m)\u001b[0m\u001b[1;33m:\u001b[0m\u001b[1;33m\u001b[0m\u001b[1;33m\u001b[0m\u001b[0m\n\u001b[0;32m   5066\u001b[0m                 \u001b[1;32mreturn\u001b[0m \u001b[0mself\u001b[0m\u001b[1;33m[\u001b[0m\u001b[0mname\u001b[0m\u001b[1;33m]\u001b[0m\u001b[1;33m\u001b[0m\u001b[1;33m\u001b[0m\u001b[0m\n\u001b[1;32m-> 5067\u001b[1;33m             \u001b[1;32mreturn\u001b[0m \u001b[0mobject\u001b[0m\u001b[1;33m.\u001b[0m\u001b[0m__getattribute__\u001b[0m\u001b[1;33m(\u001b[0m\u001b[0mself\u001b[0m\u001b[1;33m,\u001b[0m \u001b[0mname\u001b[0m\u001b[1;33m)\u001b[0m\u001b[1;33m\u001b[0m\u001b[1;33m\u001b[0m\u001b[0m\n\u001b[0m\u001b[0;32m   5068\u001b[0m \u001b[1;33m\u001b[0m\u001b[0m\n\u001b[0;32m   5069\u001b[0m     \u001b[1;32mdef\u001b[0m \u001b[0m__setattr__\u001b[0m\u001b[1;33m(\u001b[0m\u001b[0mself\u001b[0m\u001b[1;33m,\u001b[0m \u001b[0mname\u001b[0m\u001b[1;33m,\u001b[0m \u001b[0mvalue\u001b[0m\u001b[1;33m)\u001b[0m\u001b[1;33m:\u001b[0m\u001b[1;33m\u001b[0m\u001b[1;33m\u001b[0m\u001b[0m\n",
      "\u001b[1;31mAttributeError\u001b[0m: 'Series' object has no attribute 'strip'"
     ]
    }
   ],
   "source": [
    "df['mandatory field'].str.strip()"
   ]
  },
  {
   "cell_type": "code",
   "execution_count": 41,
   "metadata": {},
   "outputs": [
    {
     "data": {
      "text/plain": [
       "<map at 0x1e6652416d8>"
      ]
     },
     "execution_count": 41,
     "metadata": {},
     "output_type": "execute_result"
    }
   ],
   "source": [
    "map(lambda x: print(x), [1,2])"
   ]
  },
  {
   "cell_type": "code",
   "execution_count": 42,
   "metadata": {},
   "outputs": [],
   "source": [
    "x1=\"$\"+'x'"
   ]
  },
  {
   "cell_type": "code",
   "execution_count": 43,
   "metadata": {},
   "outputs": [
    {
     "data": {
      "text/plain": [
       "'$x'"
      ]
     },
     "execution_count": 43,
     "metadata": {},
     "output_type": "execute_result"
    }
   ],
   "source": [
    "x1"
   ]
  },
  {
   "cell_type": "code",
   "execution_count": 50,
   "metadata": {},
   "outputs": [
    {
     "ename": "AttributeError",
     "evalue": "'list' object has no attribute 'isdigit'",
     "output_type": "error",
     "traceback": [
      "\u001b[1;31m---------------------------------------------------------------------------\u001b[0m",
      "\u001b[1;31mAttributeError\u001b[0m                            Traceback (most recent call last)",
      "\u001b[1;32m<ipython-input-50-f7673399f8be>\u001b[0m in \u001b[0;36m<module>\u001b[1;34m\u001b[0m\n\u001b[1;32m----> 1\u001b[1;33m \u001b[1;33m[\u001b[0m\u001b[1;36m0\u001b[0m\u001b[1;33m]\u001b[0m\u001b[1;33m.\u001b[0m\u001b[0misdigit\u001b[0m\u001b[1;33m(\u001b[0m\u001b[1;33m)\u001b[0m\u001b[1;33m\u001b[0m\u001b[1;33m\u001b[0m\u001b[0m\n\u001b[0m",
      "\u001b[1;31mAttributeError\u001b[0m: 'list' object has no attribute 'isdigit'"
     ]
    }
   ],
   "source": [
    "[0].isdigit()"
   ]
  },
  {
   "cell_type": "code",
   "execution_count": 47,
   "metadata": {},
   "outputs": [
    {
     "data": {
      "text/plain": [
       "1.0"
      ]
     },
     "execution_count": 47,
     "metadata": {},
     "output_type": "execute_result"
    }
   ],
   "source": [
    "float('1')"
   ]
  },
  {
   "cell_type": "code",
   "execution_count": 53,
   "metadata": {},
   "outputs": [
    {
     "ename": "AttributeError",
     "evalue": "'int' object has no attribute 'isdigit'",
     "output_type": "error",
     "traceback": [
      "\u001b[1;31m---------------------------------------------------------------------------\u001b[0m",
      "\u001b[1;31mAttributeError\u001b[0m                            Traceback (most recent call last)",
      "\u001b[1;32m<ipython-input-53-2c5bdb2d861d>\u001b[0m in \u001b[0;36m<module>\u001b[1;34m\u001b[0m\n\u001b[0;32m      1\u001b[0m \u001b[0mx\u001b[0m\u001b[1;33m=\u001b[0m\u001b[1;36m1\u001b[0m\u001b[1;33m\u001b[0m\u001b[1;33m\u001b[0m\u001b[0m\n\u001b[1;32m----> 2\u001b[1;33m \u001b[0misinstance\u001b[0m\u001b[1;33m(\u001b[0m\u001b[0mx\u001b[0m\u001b[1;33m,\u001b[0m \u001b[0mstr\u001b[0m\u001b[1;33m)\u001b[0m \u001b[1;33m&\u001b[0m \u001b[0mx\u001b[0m\u001b[1;33m.\u001b[0m\u001b[0misdigit\u001b[0m\u001b[1;33m(\u001b[0m\u001b[1;33m)\u001b[0m\u001b[1;33m\u001b[0m\u001b[1;33m\u001b[0m\u001b[0m\n\u001b[0m",
      "\u001b[1;31mAttributeError\u001b[0m: 'int' object has no attribute 'isdigit'"
     ]
    }
   ],
   "source": [
    "x=1\n",
    "isinstance(x, str) & x.isdigit()"
   ]
  },
  {
   "cell_type": "code",
   "execution_count": 63,
   "metadata": {},
   "outputs": [],
   "source": [
    "def is_numeric(s):\n",
    "    try:\n",
    "        float(s)\n",
    "        return True\n",
    "    except ValueError:\n",
    "        return False\n",
    "\n",
    "def input_int(input):\n",
    "    converted_input =0\n",
    "    if is_numeric(input):\n",
    "        converted_input=float(input)\n",
    "    else:\n",
    "        converted_input=input\n",
    "    return converted_input\n"
   ]
  },
  {
   "cell_type": "code",
   "execution_count": 66,
   "metadata": {},
   "outputs": [
    {
     "data": {
      "text/plain": [
       "'1x'"
      ]
     },
     "execution_count": 66,
     "metadata": {},
     "output_type": "execute_result"
    }
   ],
   "source": [
    "input_int('1x')"
   ]
  },
  {
   "cell_type": "code",
   "execution_count": 100,
   "metadata": {},
   "outputs": [
    {
     "data": {
      "text/html": [
       "<div>\n",
       "<style scoped>\n",
       "    .dataframe tbody tr th:only-of-type {\n",
       "        vertical-align: middle;\n",
       "    }\n",
       "\n",
       "    .dataframe tbody tr th {\n",
       "        vertical-align: top;\n",
       "    }\n",
       "\n",
       "    .dataframe thead th {\n",
       "        text-align: right;\n",
       "    }\n",
       "</style>\n",
       "<table border=\"1\" class=\"dataframe\">\n",
       "  <thead>\n",
       "    <tr style=\"text-align: right;\">\n",
       "      <th></th>\n",
       "      <th>attribute</th>\n",
       "      <th>col_5</th>\n",
       "      <th>col_7</th>\n",
       "      <th>col_8</th>\n",
       "      <th>data_scope</th>\n",
       "      <th>data_type</th>\n",
       "      <th>description</th>\n",
       "      <th>mandatory_field</th>\n",
       "      <th>ลำดับ</th>\n",
       "    </tr>\n",
       "  </thead>\n",
       "  <tbody>\n",
       "    <tr>\n",
       "      <th>0</th>\n",
       "      <td>close_con</td>\n",
       "      <td>-</td>\n",
       "      <td>-</td>\n",
       "      <td>-</td>\n",
       "      <td>0 = ไม่มี 1 = มี</td>\n",
       "      <td>numeric/float</td>\n",
       "      <td>มีผู้ใกล้ชิดป่วยเป็นไข้หวัดพร้อมกัน มากกว่า 5 ...</td>\n",
       "      <td>1</td>\n",
       "      <td>1</td>\n",
       "    </tr>\n",
       "    <tr>\n",
       "      <th>1</th>\n",
       "      <td>close_risk_country</td>\n",
       "      <td>-</td>\n",
       "      <td>-</td>\n",
       "      <td>-</td>\n",
       "      <td>0 = ไม่มี 1 = มี</td>\n",
       "      <td>numeric/float</td>\n",
       "      <td>มีบุคคลในบ้านเดินทางไปประเทศกลุ่มเสี่ยง ในช่วง...</td>\n",
       "      <td>1</td>\n",
       "      <td>2</td>\n",
       "    </tr>\n",
       "    <tr>\n",
       "      <th>2</th>\n",
       "      <td>one_uri_symp</td>\n",
       "      <td>-</td>\n",
       "      <td>-</td>\n",
       "      <td>-</td>\n",
       "      <td>0 = ไม่มี 1 = มี</td>\n",
       "      <td>numeric/float</td>\n",
       "      <td>มีอาการอย่างหนึ่งในนี้ ( ไอ เจ็บคอ หอบเหนื่อยผ...</td>\n",
       "      <td>1</td>\n",
       "      <td>3</td>\n",
       "    </tr>\n",
       "    <tr>\n",
       "      <th>3</th>\n",
       "      <td>travel_risk_country</td>\n",
       "      <td>-</td>\n",
       "      <td>-</td>\n",
       "      <td>-</td>\n",
       "      <td>0 = ไม่มี 1 = มี</td>\n",
       "      <td>numeric/float</td>\n",
       "      <td>มีประวัติเดินทางไปประเทศกลุ่มเสี่ยงในช่วง 14 ว...</td>\n",
       "      <td>1</td>\n",
       "      <td>4</td>\n",
       "    </tr>\n",
       "    <tr>\n",
       "      <th>4</th>\n",
       "      <td>int_contact</td>\n",
       "      <td>-</td>\n",
       "      <td>-</td>\n",
       "      <td>-</td>\n",
       "      <td>0 = ไม่ใช่ 1 = ใช่</td>\n",
       "      <td>numeric/float</td>\n",
       "      <td>ประกอบอาชีพใกล้ชิดกับชาวต่างชาติ</td>\n",
       "      <td>1</td>\n",
       "      <td>5</td>\n",
       "    </tr>\n",
       "    <tr>\n",
       "      <th>5</th>\n",
       "      <td>spec_action</td>\n",
       "      <td>-</td>\n",
       "      <td>-</td>\n",
       "      <td>-</td>\n",
       "      <td>-</td>\n",
       "      <td>String</td>\n",
       "      <td>คำแนะนำที่เฉพาะเจาะจง</td>\n",
       "      <td>0</td>\n",
       "      <td>6</td>\n",
       "    </tr>\n",
       "    <tr>\n",
       "      <th>6</th>\n",
       "      <td>gen_action</td>\n",
       "      <td>-</td>\n",
       "      <td>-</td>\n",
       "      <td>-</td>\n",
       "      <td>-</td>\n",
       "      <td>String</td>\n",
       "      <td>เป็นคำแนะนำกว้างๆ ในการปฏิบัติตัว</td>\n",
       "      <td>0</td>\n",
       "      <td>7</td>\n",
       "    </tr>\n",
       "    <tr>\n",
       "      <th>7</th>\n",
       "      <td>covid19_contact</td>\n",
       "      <td>-</td>\n",
       "      <td>-</td>\n",
       "      <td>-</td>\n",
       "      <td>0 = ไม่มี 1 = มี</td>\n",
       "      <td>numeric/float</td>\n",
       "      <td>มีประวัติอยู่ใกล้ชิดกับผู้ป่วยยืนยัน COVID-19 ...</td>\n",
       "      <td>1</td>\n",
       "      <td>8</td>\n",
       "    </tr>\n",
       "    <tr>\n",
       "      <th>8</th>\n",
       "      <td>fever</td>\n",
       "      <td>-</td>\n",
       "      <td>-</td>\n",
       "      <td>-</td>\n",
       "      <td>0 = ต่ำกว่า 37.5 1 = สูงกว่าหรือเท่ากับ 37.5 ห...</td>\n",
       "      <td>numeric/float</td>\n",
       "      <td>มีไข้สูง 37.5 องศา (Celsius) ขึ้นไป หรือ รู้สึ...</td>\n",
       "      <td>1</td>\n",
       "      <td>9</td>\n",
       "    </tr>\n",
       "    <tr>\n",
       "      <th>9</th>\n",
       "      <td>med_prof</td>\n",
       "      <td>-</td>\n",
       "      <td>-</td>\n",
       "      <td>-</td>\n",
       "      <td>0 = ไม่ใช่ 1 = ใช่</td>\n",
       "      <td>numeric/float</td>\n",
       "      <td>เป็นบุคลากรทางการแพทย์</td>\n",
       "      <td>1</td>\n",
       "      <td>10</td>\n",
       "    </tr>\n",
       "    <tr>\n",
       "      <th>10</th>\n",
       "      <td>risk_level</td>\n",
       "      <td>-</td>\n",
       "      <td>-</td>\n",
       "      <td>-</td>\n",
       "      <td>-</td>\n",
       "      <td>String</td>\n",
       "      <td>ระดับความเสี่ยง</td>\n",
       "      <td>0</td>\n",
       "      <td>11</td>\n",
       "    </tr>\n",
       "  </tbody>\n",
       "</table>\n",
       "</div>"
      ],
      "text/plain": [
       "              attribute col_5 col_7 col_8  \\\n",
       "0             close_con     -     -     -   \n",
       "1    close_risk_country     -     -     -   \n",
       "2          one_uri_symp     -     -     -   \n",
       "3   travel_risk_country     -     -     -   \n",
       "4           int_contact     -     -     -   \n",
       "5           spec_action     -     -     -   \n",
       "6            gen_action     -     -     -   \n",
       "7       covid19_contact     -     -     -   \n",
       "8                 fever     -     -     -   \n",
       "9              med_prof     -     -     -   \n",
       "10           risk_level     -     -     -   \n",
       "\n",
       "                                           data_scope      data_type  \\\n",
       "0                                    0 = ไม่มี 1 = มี  numeric/float   \n",
       "1                                    0 = ไม่มี 1 = มี  numeric/float   \n",
       "2                                    0 = ไม่มี 1 = มี  numeric/float   \n",
       "3                                    0 = ไม่มี 1 = มี  numeric/float   \n",
       "4                                  0 = ไม่ใช่ 1 = ใช่  numeric/float   \n",
       "5                                                   -         String   \n",
       "6                                                   -         String   \n",
       "7                                    0 = ไม่มี 1 = มี  numeric/float   \n",
       "8   0 = ต่ำกว่า 37.5 1 = สูงกว่าหรือเท่ากับ 37.5 ห...  numeric/float   \n",
       "9                                  0 = ไม่ใช่ 1 = ใช่  numeric/float   \n",
       "10                                                  -         String   \n",
       "\n",
       "                                          description mandatory_field ลำดับ  \n",
       "0   มีผู้ใกล้ชิดป่วยเป็นไข้หวัดพร้อมกัน มากกว่า 5 ...               1     1  \n",
       "1   มีบุคคลในบ้านเดินทางไปประเทศกลุ่มเสี่ยง ในช่วง...               1     2  \n",
       "2   มีอาการอย่างหนึ่งในนี้ ( ไอ เจ็บคอ หอบเหนื่อยผ...               1     3  \n",
       "3   มีประวัติเดินทางไปประเทศกลุ่มเสี่ยงในช่วง 14 ว...               1     4  \n",
       "4                    ประกอบอาชีพใกล้ชิดกับชาวต่างชาติ               1     5  \n",
       "5                               คำแนะนำที่เฉพาะเจาะจง               0     6  \n",
       "6                   เป็นคำแนะนำกว้างๆ ในการปฏิบัติตัว               0     7  \n",
       "7   มีประวัติอยู่ใกล้ชิดกับผู้ป่วยยืนยัน COVID-19 ...               1     8  \n",
       "8   มีไข้สูง 37.5 องศา (Celsius) ขึ้นไป หรือ รู้สึ...               1     9  \n",
       "9                              เป็นบุคลากรทางการแพทย์               1    10  \n",
       "10                                    ระดับความเสี่ยง               0    11  "
      ]
     },
     "execution_count": 100,
     "metadata": {},
     "output_type": "execute_result"
    }
   ],
   "source": [
    "import requests\n",
    "import json\n",
    "from pandas.io.json import json_normalize\n",
    "API_KEY=\"rc40CDu6lwLKkCD7RHr0daUZnwRmvzi6\"\n",
    "\n",
    "url = \"https://opend.data.go.th/opend-search/vir_3253_1584588173/query?dsname=vir_3253_1584588173&path=vir_3253_1584588173&loadAll=1&type=json&limit=100&offset=0&api-key=\"+API_KEY\n",
    "\n",
    "payload = {}\n",
    "headers= {}\n",
    "\n",
    "response = requests.request(\"GET\", url, headers=headers, data = payload)\n",
    "json_text=json.loads(response.text)\n",
    "json_normalize(json_text['data'])"
   ]
  },
  {
   "cell_type": "code",
   "execution_count": 107,
   "metadata": {},
   "outputs": [],
   "source": [
    "METADATA=json_normalize(json_text['data'])\n",
    "METADATA.columns=map(str.lower,METADATA.columns)\n",
    "METADATA.columns=METADATA.columns.str.strip()\n",
    "\n",
    "METADATA['data_type_mapped']=METADATA['data_type'].map(VAR_TYPE_MAP).fillna(2)\n",
    "METADATA['mandatory_field_mapped']=METADATA['mandatory_field'].fillna(0)\n",
    "\n",
    "METADATA[[\"data_type_mapped\", \"mandatory_field_mapped\"]] = METADATA[[\"data_type_mapped\", \"mandatory_field_mapped\"]].apply(pd.to_numeric)"
   ]
  },
  {
   "cell_type": "code",
   "execution_count": 108,
   "metadata": {},
   "outputs": [
    {
     "data": {
      "text/plain": [
       "0      True\n",
       "1      True\n",
       "2      True\n",
       "3      True\n",
       "4      True\n",
       "5     False\n",
       "6     False\n",
       "7      True\n",
       "8      True\n",
       "9      True\n",
       "10    False\n",
       "Name: mandatory_field_mapped, dtype: bool"
      ]
     },
     "execution_count": 108,
     "metadata": {},
     "output_type": "execute_result"
    }
   ],
   "source": [
    "METADATA['mandatory_field_mapped']>0"
   ]
  },
  {
   "cell_type": "markdown",
   "metadata": {},
   "source": [
    "# Update metadata script"
   ]
  },
  {
   "cell_type": "code",
   "execution_count": 149,
   "metadata": {},
   "outputs": [],
   "source": [
    "# For pulling JSON from data.go.th\n",
    "import requests\n",
    "import json\n",
    "from pandas.io.json import json_normalize\n",
    "API_KEY=\"rc40CDu6lwLKkCD7RHr0daUZnwRmvzi6\"\n",
    "\n",
    "url_meta = \"https://opend.data.go.th/opend-search/vir_3253_1584588173/query?dsname=vir_3253_1584588173&path=vir_3253_1584588173&loadAll=1&type=json&limit=100&offset=0&api-key=\"+API_KEY\n",
    "url_algo=\"https://opend.data.go.th/opend-search/vir_3250_1584586227/query?dsname=vir_3250_1584586227&path=vir_3250_1584586227&loadAll=1&type=json&limit=100&offset=0&api-key=\"+API_KEY\n",
    "\n",
    "payload = {}\n",
    "headers= {}\n",
    "\n",
    "def obtain_json(url_in):\n",
    "    response = requests.request(\"GET\", url_in, headers=headers, data = payload)\n",
    "    json_text=json.loads(response.text)\n",
    "    print('Complete obtaining data from data_gov')\n",
    "    return json_text['data']"
   ]
  },
  {
   "cell_type": "code",
   "execution_count": 145,
   "metadata": {},
   "outputs": [],
   "source": [
    "json_data_meta=obtain_json(url_meta)\n",
    "json_data_algo=obtain_json(url_algo)"
   ]
  },
  {
   "cell_type": "code",
   "execution_count": 147,
   "metadata": {},
   "outputs": [],
   "source": [
    "mongo_url=\"mongodb://localhost:27017/\"\n",
    "import pymongo\n",
    "myclient = pymongo.MongoClient(mongo_url)\n",
    "mydb = myclient[\"Outbreak_casedef\"]\n",
    "\n",
    "#The function insert data and replace collection\n",
    "\n",
    "def update_collection(json_data,col_name='metadata'):\n",
    "\n",
    "    #Verify exisiting collection, and drop if exists\n",
    "    collist=mydb.list_collection_names()\n",
    "    if col_name in collist:\n",
    "        mydb[col_name].drop()\n",
    "\n",
    "    mycol = mydb[col_name]\n",
    "    x=mycol.insert_many(json_data)\n",
    "\n",
    "    print(x)\n",
    "    print('Complete updating '+col_name)\n",
    "    return\n"
   ]
  },
  {
   "cell_type": "code",
   "execution_count": 148,
   "metadata": {
    "scrolled": true
   },
   "outputs": [
    {
     "name": "stdout",
     "output_type": "stream",
     "text": [
      "<pymongo.results.InsertManyResult object at 0x000001E666865708>\n",
      "Complete updating metadata\n",
      "<pymongo.results.InsertManyResult object at 0x000001E666ACF2C8>\n",
      "Complete updating COVID19_action_test\n"
     ]
    }
   ],
   "source": [
    "update_collection(json_data_meta,'metadata')\n",
    "update_collection(json_data_algo,'COVID19_action_test')"
   ]
  },
  {
   "cell_type": "markdown",
   "metadata": {},
   "source": [
    "## Update metadata code"
   ]
  },
  {
   "cell_type": "code",
   "execution_count": 156,
   "metadata": {},
   "outputs": [],
   "source": [
    "METADATA=json_normalize(mydb['metadata'].find({}))\n",
    "METADATA.columns=map(str.lower,METADATA.columns)\n",
    "METADATA.columns=METADATA.columns.str.strip()\n",
    "\n",
    "METADATA['data_type_mapped']=METADATA['data_type'].map(VAR_TYPE_MAP).fillna(2)\n",
    "METADATA['mandatory_field_mapped']=METADATA['mandatory_field'].fillna(0)\n",
    "\n",
    "METADATA[[\"data_type_mapped\", \"mandatory_field_mapped\"]] = METADATA[[\"data_type_mapped\", \"mandatory_field_mapped\"]].apply(pd.to_numeric)"
   ]
  },
  {
   "cell_type": "code",
   "execution_count": 242,
   "metadata": {},
   "outputs": [
    {
     "data": {
      "text/plain": [
       "['close_risk_country',\n",
       " 'one_uri_symp',\n",
       " 'travel_risk_country',\n",
       " 'int_contact',\n",
       " 'covid19_contact',\n",
       " 'fever',\n",
       " 'med_prof']"
      ]
     },
     "execution_count": 242,
     "metadata": {},
     "output_type": "execute_result"
    }
   ],
   "source": [
    "list(METADATA[METADATA['mandatory_field_mapped']>0]['attribute'])"
   ]
  },
  {
   "cell_type": "markdown",
   "metadata": {},
   "source": [
    "## Update data type"
   ]
  },
  {
   "cell_type": "code",
   "execution_count": 247,
   "metadata": {},
   "outputs": [],
   "source": [
    "ALLOWED_INPUT=list(METADATA[METADATA['mandatory_field_mapped']>0]['attribute'])\n",
    "\n",
    "def db_type_update(db2):\n",
    "\n",
    "    for i in ALLOWED_INPUT:\n",
    "        signx=\"$\"+i\n",
    "        db2.update_many({i :{'$type':2}},[{'$set': {i: {'$convert': {'input': signx, 'to': 1}}}}])\n",
    "    return"
   ]
  },
  {
   "cell_type": "code",
   "execution_count": 250,
   "metadata": {
    "scrolled": true
   },
   "outputs": [
    {
     "ename": "TypeError",
     "evalue": "update must be an instance of dict, bson.son.SON, or other type that inherits from collections.Mapping",
     "output_type": "error",
     "traceback": [
      "\u001b[1;31m---------------------------------------------------------------------------\u001b[0m",
      "\u001b[1;31mTypeError\u001b[0m                                 Traceback (most recent call last)",
      "\u001b[1;32m<ipython-input-250-e44e169e133b>\u001b[0m in \u001b[0;36m<module>\u001b[1;34m\u001b[0m\n\u001b[1;32m----> 1\u001b[1;33m \u001b[0mdb_type_update\u001b[0m\u001b[1;33m(\u001b[0m\u001b[0mmydb\u001b[0m\u001b[1;33m[\u001b[0m\u001b[1;34m'COVID19_action_test'\u001b[0m\u001b[1;33m]\u001b[0m\u001b[1;33m)\u001b[0m\u001b[1;33m\u001b[0m\u001b[1;33m\u001b[0m\u001b[0m\n\u001b[0m",
      "\u001b[1;32m<ipython-input-247-cd3c3eb37d37>\u001b[0m in \u001b[0;36mdb_type_update\u001b[1;34m(db2)\u001b[0m\n\u001b[0;32m      5\u001b[0m     \u001b[1;32mfor\u001b[0m \u001b[0mi\u001b[0m \u001b[1;32min\u001b[0m \u001b[0mALLOWED_INPUT\u001b[0m\u001b[1;33m:\u001b[0m\u001b[1;33m\u001b[0m\u001b[1;33m\u001b[0m\u001b[0m\n\u001b[0;32m      6\u001b[0m         \u001b[0msignx\u001b[0m\u001b[1;33m=\u001b[0m\u001b[1;34m\"$\"\u001b[0m\u001b[1;33m+\u001b[0m\u001b[0mi\u001b[0m\u001b[1;33m\u001b[0m\u001b[1;33m\u001b[0m\u001b[0m\n\u001b[1;32m----> 7\u001b[1;33m         \u001b[0mdb2\u001b[0m\u001b[1;33m.\u001b[0m\u001b[0mupdate_many\u001b[0m\u001b[1;33m(\u001b[0m\u001b[1;33m{\u001b[0m\u001b[0mi\u001b[0m \u001b[1;33m:\u001b[0m\u001b[1;33m{\u001b[0m\u001b[1;34m'$type'\u001b[0m\u001b[1;33m:\u001b[0m\u001b[1;36m2\u001b[0m\u001b[1;33m}\u001b[0m\u001b[1;33m}\u001b[0m\u001b[1;33m,\u001b[0m\u001b[1;33m[\u001b[0m\u001b[1;33m{\u001b[0m\u001b[1;34m'$set'\u001b[0m\u001b[1;33m:\u001b[0m \u001b[1;33m{\u001b[0m\u001b[0mi\u001b[0m\u001b[1;33m:\u001b[0m \u001b[1;33m{\u001b[0m\u001b[1;34m'$convert'\u001b[0m\u001b[1;33m:\u001b[0m \u001b[1;33m{\u001b[0m\u001b[1;34m'input'\u001b[0m\u001b[1;33m:\u001b[0m \u001b[0msignx\u001b[0m\u001b[1;33m,\u001b[0m \u001b[1;34m'to'\u001b[0m\u001b[1;33m:\u001b[0m \u001b[1;36m1\u001b[0m\u001b[1;33m}\u001b[0m\u001b[1;33m}\u001b[0m\u001b[1;33m}\u001b[0m\u001b[1;33m}\u001b[0m\u001b[1;33m]\u001b[0m\u001b[1;33m)\u001b[0m\u001b[1;33m\u001b[0m\u001b[1;33m\u001b[0m\u001b[0m\n\u001b[0m\u001b[0;32m      8\u001b[0m     \u001b[1;32mreturn\u001b[0m\u001b[1;33m\u001b[0m\u001b[1;33m\u001b[0m\u001b[0m\n",
      "\u001b[1;32m~\\AppData\\Local\\Continuum\\anaconda3\\lib\\site-packages\\pymongo\\collection.py\u001b[0m in \u001b[0;36mupdate_many\u001b[1;34m(self, filter, update, upsert, array_filters, bypass_document_validation, collation, session)\u001b[0m\n\u001b[0;32m   1060\u001b[0m         \"\"\"\n\u001b[0;32m   1061\u001b[0m         \u001b[0mcommon\u001b[0m\u001b[1;33m.\u001b[0m\u001b[0mvalidate_is_mapping\u001b[0m\u001b[1;33m(\u001b[0m\u001b[1;34m\"filter\"\u001b[0m\u001b[1;33m,\u001b[0m \u001b[0mfilter\u001b[0m\u001b[1;33m)\u001b[0m\u001b[1;33m\u001b[0m\u001b[1;33m\u001b[0m\u001b[0m\n\u001b[1;32m-> 1062\u001b[1;33m         \u001b[0mcommon\u001b[0m\u001b[1;33m.\u001b[0m\u001b[0mvalidate_ok_for_update\u001b[0m\u001b[1;33m(\u001b[0m\u001b[0mupdate\u001b[0m\u001b[1;33m)\u001b[0m\u001b[1;33m\u001b[0m\u001b[1;33m\u001b[0m\u001b[0m\n\u001b[0m\u001b[0;32m   1063\u001b[0m         \u001b[0mcommon\u001b[0m\u001b[1;33m.\u001b[0m\u001b[0mvalidate_list_or_none\u001b[0m\u001b[1;33m(\u001b[0m\u001b[1;34m'array_filters'\u001b[0m\u001b[1;33m,\u001b[0m \u001b[0marray_filters\u001b[0m\u001b[1;33m)\u001b[0m\u001b[1;33m\u001b[0m\u001b[1;33m\u001b[0m\u001b[0m\n\u001b[0;32m   1064\u001b[0m \u001b[1;33m\u001b[0m\u001b[0m\n",
      "\u001b[1;32m~\\AppData\\Local\\Continuum\\anaconda3\\lib\\site-packages\\pymongo\\common.py\u001b[0m in \u001b[0;36mvalidate_ok_for_update\u001b[1;34m(update)\u001b[0m\n\u001b[0;32m    503\u001b[0m \u001b[1;32mdef\u001b[0m \u001b[0mvalidate_ok_for_update\u001b[0m\u001b[1;33m(\u001b[0m\u001b[0mupdate\u001b[0m\u001b[1;33m)\u001b[0m\u001b[1;33m:\u001b[0m\u001b[1;33m\u001b[0m\u001b[1;33m\u001b[0m\u001b[0m\n\u001b[0;32m    504\u001b[0m     \u001b[1;34m\"\"\"Validate an update document.\"\"\"\u001b[0m\u001b[1;33m\u001b[0m\u001b[1;33m\u001b[0m\u001b[0m\n\u001b[1;32m--> 505\u001b[1;33m     \u001b[0mvalidate_is_mapping\u001b[0m\u001b[1;33m(\u001b[0m\u001b[1;34m\"update\"\u001b[0m\u001b[1;33m,\u001b[0m \u001b[0mupdate\u001b[0m\u001b[1;33m)\u001b[0m\u001b[1;33m\u001b[0m\u001b[1;33m\u001b[0m\u001b[0m\n\u001b[0m\u001b[0;32m    506\u001b[0m     \u001b[1;31m# Update can not be {}\u001b[0m\u001b[1;33m\u001b[0m\u001b[1;33m\u001b[0m\u001b[1;33m\u001b[0m\u001b[0m\n\u001b[0;32m    507\u001b[0m     \u001b[1;32mif\u001b[0m \u001b[1;32mnot\u001b[0m \u001b[0mupdate\u001b[0m\u001b[1;33m:\u001b[0m\u001b[1;33m\u001b[0m\u001b[1;33m\u001b[0m\u001b[0m\n",
      "\u001b[1;32m~\\AppData\\Local\\Continuum\\anaconda3\\lib\\site-packages\\pymongo\\common.py\u001b[0m in \u001b[0;36mvalidate_is_mapping\u001b[1;34m(option, value)\u001b[0m\n\u001b[0;32m    450\u001b[0m         raise TypeError(\"%s must be an instance of dict, bson.son.SON, or \"\n\u001b[0;32m    451\u001b[0m                         \u001b[1;34m\"other type that inherits from \"\u001b[0m\u001b[1;33m\u001b[0m\u001b[1;33m\u001b[0m\u001b[0m\n\u001b[1;32m--> 452\u001b[1;33m                         \"collections.Mapping\" % (option,))\n\u001b[0m\u001b[0;32m    453\u001b[0m \u001b[1;33m\u001b[0m\u001b[0m\n\u001b[0;32m    454\u001b[0m \u001b[1;33m\u001b[0m\u001b[0m\n",
      "\u001b[1;31mTypeError\u001b[0m: update must be an instance of dict, bson.son.SON, or other type that inherits from collections.Mapping"
     ]
    }
   ],
   "source": [
    "db_type_update(mydb['COVID19_action_test'])"
   ]
  },
  {
   "cell_type": "code",
   "execution_count": 235,
   "metadata": {},
   "outputs": [
    {
     "data": {
      "text/plain": [
       "<pymongo.cursor.Cursor at 0x1e666b85160>"
      ]
     },
     "execution_count": 235,
     "metadata": {},
     "output_type": "execute_result"
    }
   ],
   "source": [
    ".mydb['COVID19_action_test'].find({})"
   ]
  },
  {
   "cell_type": "code",
   "execution_count": 252,
   "metadata": {},
   "outputs": [
    {
     "ename": "ModuleNotFoundError",
     "evalue": "No module named 'flask_pymongo'",
     "output_type": "error",
     "traceback": [
      "\u001b[1;31m---------------------------------------------------------------------------\u001b[0m",
      "\u001b[1;31mModuleNotFoundError\u001b[0m                       Traceback (most recent call last)",
      "\u001b[1;32m<ipython-input-252-8a409dc6e2b4>\u001b[0m in \u001b[0;36m<module>\u001b[1;34m\u001b[0m\n\u001b[0;32m      1\u001b[0m \u001b[1;32mfrom\u001b[0m \u001b[0mflask\u001b[0m \u001b[1;32mimport\u001b[0m \u001b[0mFlask\u001b[0m\u001b[1;33m,\u001b[0m\u001b[0mrender_template\u001b[0m\u001b[1;33m,\u001b[0m\u001b[0mrequest\u001b[0m\u001b[1;33m,\u001b[0m\u001b[0mjsonify\u001b[0m\u001b[1;33m\u001b[0m\u001b[1;33m\u001b[0m\u001b[0m\n\u001b[1;32m----> 2\u001b[1;33m \u001b[1;32mfrom\u001b[0m \u001b[0mflask_pymongo\u001b[0m \u001b[1;32mimport\u001b[0m \u001b[0mPyMongo\u001b[0m\u001b[1;33m\u001b[0m\u001b[1;33m\u001b[0m\u001b[0m\n\u001b[0m\u001b[0;32m      3\u001b[0m \u001b[1;33m\u001b[0m\u001b[0m\n\u001b[0;32m      4\u001b[0m \u001b[0mapp\u001b[0m\u001b[1;33m=\u001b[0m\u001b[0mFlask\u001b[0m\u001b[1;33m(\u001b[0m\u001b[0m__name__\u001b[0m\u001b[1;33m)\u001b[0m\u001b[1;33m\u001b[0m\u001b[1;33m\u001b[0m\u001b[0m\n\u001b[0;32m      5\u001b[0m \u001b[1;33m\u001b[0m\u001b[0m\n",
      "\u001b[1;31mModuleNotFoundError\u001b[0m: No module named 'flask_pymongo'"
     ]
    }
   ],
   "source": [
    "from flask import Flask,render_template,request,jsonify\n",
    "from flask_pymongo import PyMongo\n",
    "\n",
    "app=Flask(__name__)\n",
    "\n",
    "\n",
    "#For local database\n",
    "app.config[\"MONGO_URI\"]=\"mongodb://localhost:27017/Outbreak_casedef\""
   ]
  },
  {
   "cell_type": "code",
   "execution_count": null,
   "metadata": {},
   "outputs": [],
   "source": []
  }
 ],
 "metadata": {
  "kernelspec": {
   "display_name": "Python 3",
   "language": "python",
   "name": "python3"
  },
  "language_info": {
   "codemirror_mode": {
    "name": "ipython",
    "version": 3
   },
   "file_extension": ".py",
   "mimetype": "text/x-python",
   "name": "python",
   "nbconvert_exporter": "python",
   "pygments_lexer": "ipython3",
   "version": "3.7.3"
  }
 },
 "nbformat": 4,
 "nbformat_minor": 2
}
